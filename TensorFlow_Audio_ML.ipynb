{
 "cells": [
  {
   "attachments": {},
   "cell_type": "markdown",
   "metadata": {},
   "source": [
    "# Import the libraries"
   ]
  },
  {
   "cell_type": "code",
   "execution_count": 1,
   "metadata": {},
   "outputs": [
    {
     "name": "stderr",
     "output_type": "stream",
     "text": [
      "2024-01-24 13:50:28.013803: I tensorflow/core/platform/cpu_feature_guard.cc:182] This TensorFlow binary is optimized to use available CPU instructions in performance-critical operations.\n",
      "To enable the following instructions: AVX2 FMA, in other operations, rebuild TensorFlow with the appropriate compiler flags.\n"
     ]
    }
   ],
   "source": [
    "import numpy as np \n",
    "import tensorflow as tf   "
   ]
  },
  {
   "attachments": {},
   "cell_type": "markdown",
   "metadata": {},
   "source": [
    "# Data "
   ]
  },
  {
   "cell_type": "code",
   "execution_count": 2,
   "metadata": {},
   "outputs": [
    {
     "name": "stderr",
     "output_type": "stream",
     "text": [
      "/var/folders/8h/5n2xyq893hn0s4q0zg3rvfnh0000gn/T/ipykernel_1587/4087661367.py:2: DeprecationWarning: `np.float` is a deprecated alias for the builtin `float`. To silence this warning, use `float` by itself. Doing this will not modify any behavior and is safe. If you specifically wanted the numpy scalar type, use `np.float64` here.\n",
      "Deprecated in NumPy 1.20; for more details and guidance: https://numpy.org/devdocs/release/1.20.0-notes.html#deprecations\n",
      "  train_inputs=npz['inputs'].astype(np.float)\n",
      "/var/folders/8h/5n2xyq893hn0s4q0zg3rvfnh0000gn/T/ipykernel_1587/4087661367.py:3: DeprecationWarning: `np.int` is a deprecated alias for the builtin `int`. To silence this warning, use `int` by itself. Doing this will not modify any behavior and is safe. When replacing `np.int`, you may wish to use e.g. `np.int64` or `np.int32` to specify the precision. If you wish to review your current use, check the release note link for additional information.\n",
      "Deprecated in NumPy 1.20; for more details and guidance: https://numpy.org/devdocs/release/1.20.0-notes.html#deprecations\n",
      "  train_targets=npz['targets'].astype(np.int)\n",
      "/var/folders/8h/5n2xyq893hn0s4q0zg3rvfnh0000gn/T/ipykernel_1587/4087661367.py:5: DeprecationWarning: `np.float` is a deprecated alias for the builtin `float`. To silence this warning, use `float` by itself. Doing this will not modify any behavior and is safe. If you specifically wanted the numpy scalar type, use `np.float64` here.\n",
      "Deprecated in NumPy 1.20; for more details and guidance: https://numpy.org/devdocs/release/1.20.0-notes.html#deprecations\n",
      "  validation_inputs=npz['inputs'].astype(np.float)\n",
      "/var/folders/8h/5n2xyq893hn0s4q0zg3rvfnh0000gn/T/ipykernel_1587/4087661367.py:6: DeprecationWarning: `np.int` is a deprecated alias for the builtin `int`. To silence this warning, use `int` by itself. Doing this will not modify any behavior and is safe. When replacing `np.int`, you may wish to use e.g. `np.int64` or `np.int32` to specify the precision. If you wish to review your current use, check the release note link for additional information.\n",
      "Deprecated in NumPy 1.20; for more details and guidance: https://numpy.org/devdocs/release/1.20.0-notes.html#deprecations\n",
      "  validation_targets=npz['targets'].astype(np.int)\n",
      "/var/folders/8h/5n2xyq893hn0s4q0zg3rvfnh0000gn/T/ipykernel_1587/4087661367.py:8: DeprecationWarning: `np.float` is a deprecated alias for the builtin `float`. To silence this warning, use `float` by itself. Doing this will not modify any behavior and is safe. If you specifically wanted the numpy scalar type, use `np.float64` here.\n",
      "Deprecated in NumPy 1.20; for more details and guidance: https://numpy.org/devdocs/release/1.20.0-notes.html#deprecations\n",
      "  test_inputs=npz['inputs'].astype(np.float)\n",
      "/var/folders/8h/5n2xyq893hn0s4q0zg3rvfnh0000gn/T/ipykernel_1587/4087661367.py:9: DeprecationWarning: `np.int` is a deprecated alias for the builtin `int`. To silence this warning, use `int` by itself. Doing this will not modify any behavior and is safe. When replacing `np.int`, you may wish to use e.g. `np.int64` or `np.int32` to specify the precision. If you wish to review your current use, check the release note link for additional information.\n",
      "Deprecated in NumPy 1.20; for more details and guidance: https://numpy.org/devdocs/release/1.20.0-notes.html#deprecations\n",
      "  test_targets=npz['targets'].astype(np.int)\n"
     ]
    }
   ],
   "source": [
    "npz=np.load('Audio_train.npz')\n",
    "train_inputs=npz['inputs'].astype(np.float)\n",
    "train_targets=npz['targets'].astype(np.int)\n",
    "npz=np.load('Audio_validation.npz')\n",
    "validation_inputs=npz['inputs'].astype(np.float)\n",
    "validation_targets=npz['targets'].astype(np.int)\n",
    "npz=np.load('Audio_test.npz')\n",
    "test_inputs=npz['inputs'].astype(np.float)\n",
    "test_targets=npz['targets'].astype(np.int)"
   ]
  },
  {
   "attachments": {},
   "cell_type": "markdown",
   "metadata": {},
   "source": [
    "# Model \n",
    "### outlien optimkzers, loss , early stopping and training "
   ]
  },
  {
   "cell_type": "code",
   "execution_count": 3,
   "metadata": {},
   "outputs": [
    {
     "name": "stdout",
     "output_type": "stream",
     "text": [
      "Epoch 1/100\n",
      "36/36 - 1s - loss: 0.6031 - accuracy: 0.7072 - val_loss: 0.4345 - val_accuracy: 0.8725 - 1s/epoch - 32ms/step\n",
      "Epoch 2/100\n",
      "36/36 - 0s - loss: 0.3688 - accuracy: 0.8704 - val_loss: 0.3648 - val_accuracy: 0.8747 - 108ms/epoch - 3ms/step\n",
      "Epoch 3/100\n",
      "36/36 - 0s - loss: 0.3209 - accuracy: 0.8796 - val_loss: 0.3422 - val_accuracy: 0.8770 - 94ms/epoch - 3ms/step\n",
      "Epoch 4/100\n",
      "36/36 - 0s - loss: 0.3008 - accuracy: 0.8888 - val_loss: 0.3213 - val_accuracy: 0.8837 - 83ms/epoch - 2ms/step\n",
      "Epoch 5/100\n",
      "36/36 - 0s - loss: 0.2886 - accuracy: 0.8899 - val_loss: 0.3039 - val_accuracy: 0.8837 - 83ms/epoch - 2ms/step\n",
      "Epoch 6/100\n",
      "36/36 - 0s - loss: 0.2805 - accuracy: 0.8958 - val_loss: 0.2961 - val_accuracy: 0.8904 - 81ms/epoch - 2ms/step\n",
      "Epoch 7/100\n",
      "36/36 - 0s - loss: 0.2731 - accuracy: 0.8961 - val_loss: 0.2827 - val_accuracy: 0.8881 - 99ms/epoch - 3ms/step\n",
      "Epoch 8/100\n",
      "36/36 - 0s - loss: 0.2678 - accuracy: 0.8983 - val_loss: 0.2766 - val_accuracy: 0.8926 - 179ms/epoch - 5ms/step\n",
      "Epoch 9/100\n",
      "36/36 - 0s - loss: 0.2637 - accuracy: 0.9011 - val_loss: 0.2724 - val_accuracy: 0.8949 - 103ms/epoch - 3ms/step\n",
      "Epoch 10/100\n",
      "36/36 - 0s - loss: 0.2595 - accuracy: 0.9022 - val_loss: 0.2628 - val_accuracy: 0.8971 - 99ms/epoch - 3ms/step\n",
      "Epoch 11/100\n",
      "36/36 - 0s - loss: 0.2562 - accuracy: 0.9022 - val_loss: 0.2601 - val_accuracy: 0.8993 - 102ms/epoch - 3ms/step\n",
      "Epoch 12/100\n",
      "36/36 - 0s - loss: 0.2536 - accuracy: 0.9028 - val_loss: 0.2723 - val_accuracy: 0.8949 - 90ms/epoch - 2ms/step\n",
      "Epoch 13/100\n",
      "36/36 - 0s - loss: 0.2541 - accuracy: 0.9033 - val_loss: 0.2571 - val_accuracy: 0.8949 - 83ms/epoch - 2ms/step\n",
      "Epoch 14/100\n",
      "36/36 - 0s - loss: 0.2485 - accuracy: 0.9070 - val_loss: 0.2602 - val_accuracy: 0.8949 - 82ms/epoch - 2ms/step\n",
      "Epoch 15/100\n",
      "36/36 - 0s - loss: 0.2488 - accuracy: 0.9044 - val_loss: 0.2568 - val_accuracy: 0.8971 - 84ms/epoch - 2ms/step\n",
      "Epoch 16/100\n",
      "36/36 - 0s - loss: 0.2452 - accuracy: 0.9061 - val_loss: 0.2514 - val_accuracy: 0.8993 - 88ms/epoch - 2ms/step\n",
      "Epoch 17/100\n",
      "36/36 - 0s - loss: 0.2439 - accuracy: 0.9084 - val_loss: 0.2571 - val_accuracy: 0.8971 - 82ms/epoch - 2ms/step\n",
      "Epoch 18/100\n",
      "36/36 - 0s - loss: 0.2419 - accuracy: 0.9095 - val_loss: 0.2640 - val_accuracy: 0.8971 - 98ms/epoch - 3ms/step\n",
      "Epoch 19/100\n",
      "36/36 - 0s - loss: 0.2417 - accuracy: 0.9095 - val_loss: 0.2638 - val_accuracy: 0.8971 - 97ms/epoch - 3ms/step\n",
      "Epoch 20/100\n",
      "36/36 - 0s - loss: 0.2393 - accuracy: 0.9098 - val_loss: 0.2678 - val_accuracy: 0.8971 - 78ms/epoch - 2ms/step\n",
      "Epoch 21/100\n",
      "36/36 - 0s - loss: 0.2392 - accuracy: 0.9120 - val_loss: 0.2627 - val_accuracy: 0.8993 - 87ms/epoch - 2ms/step\n",
      "Epoch 22/100\n",
      "36/36 - 0s - loss: 0.2405 - accuracy: 0.9095 - val_loss: 0.2581 - val_accuracy: 0.9016 - 79ms/epoch - 2ms/step\n",
      "Epoch 23/100\n",
      "36/36 - 0s - loss: 0.2382 - accuracy: 0.9092 - val_loss: 0.2645 - val_accuracy: 0.8971 - 82ms/epoch - 2ms/step\n",
      "Epoch 24/100\n",
      "36/36 - 0s - loss: 0.2352 - accuracy: 0.9111 - val_loss: 0.2608 - val_accuracy: 0.8993 - 80ms/epoch - 2ms/step\n",
      "Epoch 25/100\n",
      "36/36 - 0s - loss: 0.2332 - accuracy: 0.9131 - val_loss: 0.2548 - val_accuracy: 0.8993 - 99ms/epoch - 3ms/step\n",
      "Epoch 26/100\n",
      "36/36 - 0s - loss: 0.2340 - accuracy: 0.9139 - val_loss: 0.2513 - val_accuracy: 0.8993 - 83ms/epoch - 2ms/step\n",
      "Epoch 27/100\n",
      "36/36 - 0s - loss: 0.2329 - accuracy: 0.9145 - val_loss: 0.2546 - val_accuracy: 0.8993 - 93ms/epoch - 3ms/step\n",
      "Epoch 28/100\n",
      "36/36 - 0s - loss: 0.2323 - accuracy: 0.9137 - val_loss: 0.2552 - val_accuracy: 0.9038 - 84ms/epoch - 2ms/step\n",
      "Epoch 29/100\n",
      "36/36 - 0s - loss: 0.2338 - accuracy: 0.9120 - val_loss: 0.2491 - val_accuracy: 0.9016 - 96ms/epoch - 3ms/step\n",
      "Epoch 30/100\n",
      "36/36 - 0s - loss: 0.2309 - accuracy: 0.9134 - val_loss: 0.2506 - val_accuracy: 0.8993 - 85ms/epoch - 2ms/step\n",
      "Epoch 31/100\n",
      "36/36 - 0s - loss: 0.2288 - accuracy: 0.9142 - val_loss: 0.2558 - val_accuracy: 0.8993 - 85ms/epoch - 2ms/step\n",
      "Epoch 32/100\n",
      "36/36 - 0s - loss: 0.2299 - accuracy: 0.9142 - val_loss: 0.2541 - val_accuracy: 0.9038 - 81ms/epoch - 2ms/step\n",
      "Epoch 33/100\n",
      "36/36 - 0s - loss: 0.2287 - accuracy: 0.9153 - val_loss: 0.2634 - val_accuracy: 0.8993 - 88ms/epoch - 2ms/step\n",
      "Epoch 34/100\n",
      "36/36 - 0s - loss: 0.2277 - accuracy: 0.9148 - val_loss: 0.2511 - val_accuracy: 0.8993 - 80ms/epoch - 2ms/step\n",
      "Epoch 35/100\n",
      "36/36 - 0s - loss: 0.2266 - accuracy: 0.9139 - val_loss: 0.2619 - val_accuracy: 0.8993 - 88ms/epoch - 2ms/step\n",
      "Epoch 36/100\n",
      "36/36 - 0s - loss: 0.2283 - accuracy: 0.9148 - val_loss: 0.2655 - val_accuracy: 0.8993 - 83ms/epoch - 2ms/step\n",
      "Epoch 37/100\n",
      "36/36 - 0s - loss: 0.2263 - accuracy: 0.9131 - val_loss: 0.2678 - val_accuracy: 0.8993 - 137ms/epoch - 4ms/step\n",
      "Epoch 38/100\n",
      "36/36 - 0s - loss: 0.2277 - accuracy: 0.9142 - val_loss: 0.2572 - val_accuracy: 0.9016 - 91ms/epoch - 3ms/step\n",
      "Epoch 39/100\n",
      "36/36 - 0s - loss: 0.2267 - accuracy: 0.9153 - val_loss: 0.2722 - val_accuracy: 0.8993 - 98ms/epoch - 3ms/step\n",
      "Epoch 40/100\n",
      "36/36 - 0s - loss: 0.2248 - accuracy: 0.9162 - val_loss: 0.2438 - val_accuracy: 0.9060 - 192ms/epoch - 5ms/step\n",
      "Epoch 41/100\n",
      "36/36 - 0s - loss: 0.2287 - accuracy: 0.9145 - val_loss: 0.2542 - val_accuracy: 0.9038 - 108ms/epoch - 3ms/step\n",
      "Epoch 42/100\n",
      "36/36 - 0s - loss: 0.2284 - accuracy: 0.9153 - val_loss: 0.2393 - val_accuracy: 0.9038 - 93ms/epoch - 3ms/step\n",
      "Epoch 43/100\n",
      "36/36 - 0s - loss: 0.2286 - accuracy: 0.9139 - val_loss: 0.2573 - val_accuracy: 0.9060 - 86ms/epoch - 2ms/step\n",
      "Epoch 44/100\n",
      "36/36 - 0s - loss: 0.2230 - accuracy: 0.9159 - val_loss: 0.2584 - val_accuracy: 0.9038 - 102ms/epoch - 3ms/step\n",
      "Epoch 45/100\n",
      "36/36 - 0s - loss: 0.2239 - accuracy: 0.9159 - val_loss: 0.2629 - val_accuracy: 0.8993 - 81ms/epoch - 2ms/step\n",
      "Epoch 46/100\n",
      "36/36 - 0s - loss: 0.2225 - accuracy: 0.9167 - val_loss: 0.2519 - val_accuracy: 0.9016 - 78ms/epoch - 2ms/step\n",
      "Epoch 47/100\n",
      "36/36 - 0s - loss: 0.2217 - accuracy: 0.9167 - val_loss: 0.2533 - val_accuracy: 0.8993 - 79ms/epoch - 2ms/step\n",
      "Epoch 48/100\n",
      "36/36 - 0s - loss: 0.2238 - accuracy: 0.9162 - val_loss: 0.2550 - val_accuracy: 0.8993 - 94ms/epoch - 3ms/step\n",
      "Epoch 49/100\n",
      "36/36 - 0s - loss: 0.2236 - accuracy: 0.9153 - val_loss: 0.2633 - val_accuracy: 0.9016 - 96ms/epoch - 3ms/step\n",
      "Epoch 50/100\n",
      "36/36 - 0s - loss: 0.2246 - accuracy: 0.9153 - val_loss: 0.2524 - val_accuracy: 0.9083 - 80ms/epoch - 2ms/step\n",
      "Epoch 51/100\n",
      "36/36 - 0s - loss: 0.2216 - accuracy: 0.9159 - val_loss: 0.2566 - val_accuracy: 0.8993 - 81ms/epoch - 2ms/step\n",
      "Epoch 52/100\n",
      "36/36 - 0s - loss: 0.2213 - accuracy: 0.9159 - val_loss: 0.2708 - val_accuracy: 0.9038 - 90ms/epoch - 2ms/step\n",
      "Epoch 53/100\n",
      "36/36 - 0s - loss: 0.2211 - accuracy: 0.9162 - val_loss: 0.2499 - val_accuracy: 0.9016 - 81ms/epoch - 2ms/step\n",
      "Epoch 54/100\n",
      "36/36 - 0s - loss: 0.2220 - accuracy: 0.9145 - val_loss: 0.2749 - val_accuracy: 0.9038 - 82ms/epoch - 2ms/step\n",
      "Epoch 55/100\n",
      "36/36 - 0s - loss: 0.2217 - accuracy: 0.9167 - val_loss: 0.2584 - val_accuracy: 0.9060 - 80ms/epoch - 2ms/step\n",
      "Epoch 56/100\n",
      "36/36 - 0s - loss: 0.2192 - accuracy: 0.9165 - val_loss: 0.2675 - val_accuracy: 0.9083 - 78ms/epoch - 2ms/step\n",
      "Epoch 57/100\n",
      "36/36 - 0s - loss: 0.2203 - accuracy: 0.9170 - val_loss: 0.2540 - val_accuracy: 0.9083 - 105ms/epoch - 3ms/step\n",
      "Epoch 58/100\n",
      "36/36 - 0s - loss: 0.2198 - accuracy: 0.9153 - val_loss: 0.2525 - val_accuracy: 0.8993 - 116ms/epoch - 3ms/step\n",
      "Epoch 59/100\n",
      "36/36 - 0s - loss: 0.2212 - accuracy: 0.9165 - val_loss: 0.2863 - val_accuracy: 0.8926 - 114ms/epoch - 3ms/step\n",
      "Epoch 60/100\n",
      "36/36 - 0s - loss: 0.2232 - accuracy: 0.9153 - val_loss: 0.2575 - val_accuracy: 0.9060 - 81ms/epoch - 2ms/step\n",
      "Epoch 61/100\n",
      "36/36 - 0s - loss: 0.2179 - accuracy: 0.9159 - val_loss: 0.2624 - val_accuracy: 0.9016 - 81ms/epoch - 2ms/step\n",
      "Epoch 62/100\n",
      "36/36 - 0s - loss: 0.2163 - accuracy: 0.9167 - val_loss: 0.2512 - val_accuracy: 0.9038 - 102ms/epoch - 3ms/step\n",
      "Epoch 63/100\n",
      "36/36 - 0s - loss: 0.2176 - accuracy: 0.9179 - val_loss: 0.2583 - val_accuracy: 0.9060 - 84ms/epoch - 2ms/step\n",
      "Epoch 64/100\n",
      "36/36 - 0s - loss: 0.2197 - accuracy: 0.9165 - val_loss: 0.2580 - val_accuracy: 0.9083 - 83ms/epoch - 2ms/step\n",
      "Epoch 65/100\n",
      "36/36 - 0s - loss: 0.2167 - accuracy: 0.9173 - val_loss: 0.2711 - val_accuracy: 0.8949 - 161ms/epoch - 4ms/step\n",
      "Epoch 66/100\n",
      "36/36 - 0s - loss: 0.2190 - accuracy: 0.9156 - val_loss: 0.2619 - val_accuracy: 0.8993 - 109ms/epoch - 3ms/step\n",
      "Epoch 67/100\n",
      "36/36 - 0s - loss: 0.2215 - accuracy: 0.9165 - val_loss: 0.2599 - val_accuracy: 0.9038 - 103ms/epoch - 3ms/step\n",
      "Epoch 68/100\n",
      "36/36 - 0s - loss: 0.2172 - accuracy: 0.9184 - val_loss: 0.2709 - val_accuracy: 0.9016 - 117ms/epoch - 3ms/step\n",
      "Epoch 69/100\n",
      "36/36 - 0s - loss: 0.2191 - accuracy: 0.9145 - val_loss: 0.2729 - val_accuracy: 0.9016 - 88ms/epoch - 2ms/step\n",
      "Epoch 70/100\n",
      "36/36 - 0s - loss: 0.2164 - accuracy: 0.9173 - val_loss: 0.2660 - val_accuracy: 0.8971 - 84ms/epoch - 2ms/step\n",
      "Epoch 71/100\n",
      "36/36 - 0s - loss: 0.2177 - accuracy: 0.9162 - val_loss: 0.2696 - val_accuracy: 0.9038 - 96ms/epoch - 3ms/step\n",
      "Epoch 72/100\n",
      "36/36 - 0s - loss: 0.2153 - accuracy: 0.9184 - val_loss: 0.2646 - val_accuracy: 0.9038 - 93ms/epoch - 3ms/step\n",
      "Epoch 73/100\n",
      "36/36 - 0s - loss: 0.2155 - accuracy: 0.9167 - val_loss: 0.2507 - val_accuracy: 0.9038 - 83ms/epoch - 2ms/step\n",
      "Epoch 74/100\n",
      "36/36 - 0s - loss: 0.2171 - accuracy: 0.9181 - val_loss: 0.2578 - val_accuracy: 0.9038 - 101ms/epoch - 3ms/step\n",
      "Epoch 75/100\n",
      "36/36 - 0s - loss: 0.2167 - accuracy: 0.9195 - val_loss: 0.2477 - val_accuracy: 0.9060 - 111ms/epoch - 3ms/step\n",
      "Epoch 76/100\n",
      "36/36 - 0s - loss: 0.2162 - accuracy: 0.9181 - val_loss: 0.2568 - val_accuracy: 0.9060 - 86ms/epoch - 2ms/step\n",
      "Epoch 77/100\n",
      "36/36 - 0s - loss: 0.2142 - accuracy: 0.9176 - val_loss: 0.2715 - val_accuracy: 0.9060 - 80ms/epoch - 2ms/step\n",
      "Epoch 78/100\n",
      "36/36 - 0s - loss: 0.2166 - accuracy: 0.9179 - val_loss: 0.2539 - val_accuracy: 0.9060 - 80ms/epoch - 2ms/step\n",
      "Epoch 79/100\n",
      "36/36 - 0s - loss: 0.2162 - accuracy: 0.9170 - val_loss: 0.2574 - val_accuracy: 0.9038 - 81ms/epoch - 2ms/step\n",
      "Epoch 80/100\n",
      "36/36 - 0s - loss: 0.2162 - accuracy: 0.9184 - val_loss: 0.2622 - val_accuracy: 0.9060 - 80ms/epoch - 2ms/step\n",
      "Epoch 81/100\n",
      "36/36 - 0s - loss: 0.2175 - accuracy: 0.9179 - val_loss: 0.2823 - val_accuracy: 0.9038 - 82ms/epoch - 2ms/step\n",
      "Epoch 82/100\n",
      "36/36 - 0s - loss: 0.2155 - accuracy: 0.9181 - val_loss: 0.2755 - val_accuracy: 0.9038 - 81ms/epoch - 2ms/step\n",
      "Epoch 83/100\n",
      "36/36 - 0s - loss: 0.2173 - accuracy: 0.9162 - val_loss: 0.2674 - val_accuracy: 0.9038 - 79ms/epoch - 2ms/step\n",
      "Epoch 84/100\n",
      "36/36 - 0s - loss: 0.2170 - accuracy: 0.9162 - val_loss: 0.2589 - val_accuracy: 0.9016 - 90ms/epoch - 3ms/step\n",
      "Epoch 85/100\n",
      "36/36 - 0s - loss: 0.2176 - accuracy: 0.9173 - val_loss: 0.2603 - val_accuracy: 0.9038 - 82ms/epoch - 2ms/step\n",
      "Epoch 86/100\n",
      "36/36 - 0s - loss: 0.2162 - accuracy: 0.9151 - val_loss: 0.2485 - val_accuracy: 0.9060 - 80ms/epoch - 2ms/step\n",
      "Epoch 87/100\n",
      "36/36 - 0s - loss: 0.2180 - accuracy: 0.9184 - val_loss: 0.2549 - val_accuracy: 0.9038 - 81ms/epoch - 2ms/step\n",
      "Epoch 88/100\n",
      "36/36 - 0s - loss: 0.2140 - accuracy: 0.9165 - val_loss: 0.2653 - val_accuracy: 0.9038 - 95ms/epoch - 3ms/step\n",
      "Epoch 89/100\n",
      "36/36 - 0s - loss: 0.2129 - accuracy: 0.9176 - val_loss: 0.2677 - val_accuracy: 0.9038 - 97ms/epoch - 3ms/step\n",
      "Epoch 90/100\n",
      "36/36 - 0s - loss: 0.2162 - accuracy: 0.9181 - val_loss: 0.2602 - val_accuracy: 0.9060 - 82ms/epoch - 2ms/step\n",
      "Epoch 91/100\n",
      "36/36 - 0s - loss: 0.2142 - accuracy: 0.9206 - val_loss: 0.2570 - val_accuracy: 0.9038 - 84ms/epoch - 2ms/step\n",
      "Epoch 92/100\n",
      "36/36 - 0s - loss: 0.2123 - accuracy: 0.9181 - val_loss: 0.2688 - val_accuracy: 0.9038 - 87ms/epoch - 2ms/step\n",
      "Epoch 93/100\n",
      "36/36 - 0s - loss: 0.2177 - accuracy: 0.9151 - val_loss: 0.2470 - val_accuracy: 0.9038 - 157ms/epoch - 4ms/step\n",
      "Epoch 94/100\n",
      "36/36 - 0s - loss: 0.2192 - accuracy: 0.9181 - val_loss: 0.2614 - val_accuracy: 0.9038 - 88ms/epoch - 2ms/step\n",
      "Epoch 95/100\n",
      "36/36 - 0s - loss: 0.2116 - accuracy: 0.9190 - val_loss: 0.2633 - val_accuracy: 0.9038 - 80ms/epoch - 2ms/step\n",
      "Epoch 96/100\n",
      "36/36 - 0s - loss: 0.2142 - accuracy: 0.9165 - val_loss: 0.2671 - val_accuracy: 0.9038 - 79ms/epoch - 2ms/step\n",
      "Epoch 97/100\n",
      "36/36 - 0s - loss: 0.2119 - accuracy: 0.9193 - val_loss: 0.2677 - val_accuracy: 0.9038 - 78ms/epoch - 2ms/step\n",
      "Epoch 98/100\n",
      "36/36 - 0s - loss: 0.2113 - accuracy: 0.9198 - val_loss: 0.2669 - val_accuracy: 0.8993 - 80ms/epoch - 2ms/step\n",
      "Epoch 99/100\n",
      "36/36 - 0s - loss: 0.2151 - accuracy: 0.9167 - val_loss: 0.2671 - val_accuracy: 0.9038 - 82ms/epoch - 2ms/step\n",
      "Epoch 100/100\n",
      "36/36 - 0s - loss: 0.2106 - accuracy: 0.9190 - val_loss: 0.2609 - val_accuracy: 0.9016 - 85ms/epoch - 2ms/step\n"
     ]
    },
    {
     "data": {
      "text/plain": [
       "<keras.callbacks.History at 0x1296b34f0>"
      ]
     },
     "execution_count": 3,
     "metadata": {},
     "output_type": "execute_result"
    }
   ],
   "source": [
    "input_size=10 \n",
    "output_size=2  \n",
    "hidden_layer_size=50\n",
    "model=tf.keras.Sequential([\n",
    "    tf.keras.layers.Dense(hidden_layer_size,activation='relu'),\n",
    "    tf.keras.layers.Dense(hidden_layer_size,activation='relu'),\n",
    "    tf.keras.layers.Dense(output_size,activation='softmax')\n",
    "])\n",
    "model.compile(optimizer='adam',loss='sparse_categorical_crossentropy',metrics=['accuracy'])\n",
    "batch_size=100\n",
    "max_epochs=100\n",
    "model.fit(train_inputs,train_targets,batch_size=batch_size,epochs=max_epochs,validation_data=(validation_inputs,validation_targets),verbose=2)"
   ]
  },
  {
   "cell_type": "code",
   "execution_count": 4,
   "metadata": {},
   "outputs": [
    {
     "name": "stdout",
     "output_type": "stream",
     "text": [
      "14/14 [==============================] - 0s 2ms/step - loss: 0.1732 - accuracy: 0.9420\n"
     ]
    }
   ],
   "source": [
    "test_loss,test_accuracy=model.evaluate(test_inputs,test_targets)"
   ]
  },
  {
   "cell_type": "code",
   "execution_count": 5,
   "metadata": {},
   "outputs": [
    {
     "name": "stdout",
     "output_type": "stream",
     "text": [
      "\n",
      "Test loss: 0.17. Test accuracy: 94.20%\n"
     ]
    }
   ],
   "source": [
    "print('\\nTest loss: {0:.2f}. Test accuracy: {1:.2f}%'.format(test_loss, test_accuracy*100.))"
   ]
  }
 ],
 "metadata": {
  "kernelspec": {
   "display_name": "Python 3",
   "language": "python",
   "name": "python3"
  },
  "language_info": {
   "codemirror_mode": {
    "name": "ipython",
    "version": 3
   },
   "file_extension": ".py",
   "mimetype": "text/x-python",
   "name": "python",
   "nbconvert_exporter": "python",
   "pygments_lexer": "ipython3",
   "version": "3.10.4"
  },
  "orig_nbformat": 4
 },
 "nbformat": 4,
 "nbformat_minor": 2
}
