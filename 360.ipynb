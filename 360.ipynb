{
 "cells": [
  {
   "attachments": {},
   "cell_type": "markdown",
   "metadata": {},
   "source": [
    "## This is a simple linear regression where we create  our inputs, targets and create a model that produce an output, and whether the output matches with the target."
   ]
  },
  {
   "attachments": {},
   "cell_type": "markdown",
   "metadata": {},
   "source": [
    "# Import the relevant libraries"
   ]
  },
  {
   "cell_type": "code",
   "execution_count": 18,
   "metadata": {},
   "outputs": [],
   "source": [
    "import numpy as np \n",
    "import matplotlib.pyplot as plt \n",
    "from mpl_toolkits.mplot3d import Axes3D"
   ]
  },
  {
   "attachments": {},
   "cell_type": "markdown",
   "metadata": {},
   "source": [
    "# Generate random input data to train on \n",
    "### Size of the training set we want to generate."
   ]
  },
  {
   "cell_type": "code",
   "execution_count": 19,
   "metadata": {},
   "outputs": [
    {
     "name": "stdout",
     "output_type": "stream",
     "text": [
      "(1000, 2)\n"
     ]
    }
   ],
   "source": [
    "# Create the inputs variable\n",
    "observations=1000\n",
    "# Two features as inputs \n",
    "xs=np.random.uniform(low=-10,high=10,size=(observations,1))\n",
    "zs=np.random.uniform(low=-10,high=10,size=(observations,1)) # Size of xs and zs is 1000 * 1 vector.\n",
    "inputs=np.column_stack((xs,zs)) #column_stack is a method which combines two vectors into a matrix .\n",
    "print(inputs.shape)"
   ]
  },
  {
   "attachments": {},
   "cell_type": "markdown",
   "metadata": {},
   "source": [
    "# Generate the targets we will aim at."
   ]
  },
  {
   "cell_type": "code",
   "execution_count": 20,
   "metadata": {},
   "outputs": [
    {
     "name": "stdout",
     "output_type": "stream",
     "text": [
      "(1000, 1)\n"
     ]
    }
   ],
   "source": [
    "noise=np.random.uniform(-1,1,(observations,1))\n",
    "# Linear Regression Target Equation : f(xs,zs)= 2xs - 3 * zs + 5 + noise\n",
    "targets= 2 * xs - 3 * zs + 5 + noise\n",
    "print(targets.shape)"
   ]
  },
  {
   "attachments": {},
   "cell_type": "markdown",
   "metadata": {},
   "source": [
    "# Initialize the variables"
   ]
  },
  {
   "cell_type": "code",
   "execution_count": 21,
   "metadata": {},
   "outputs": [
    {
     "name": "stdout",
     "output_type": "stream",
     "text": [
      "[[ 0.0670641 ]\n",
      " [-0.05021656]]\n",
      "[0.07207537]\n"
     ]
    }
   ],
   "source": [
    "init_range=0.1\n",
    "weights=np.random.uniform(low=-init_range,high=init_range,size=(2,1)) # Weights is a 2 * 1 matrix since there are two features as inputs.\n",
    "biases=np.random.uniform(low=-init_range,high=init_range,size=1) # biases is a scalar.\n",
    "print(weights)\n",
    "print(biases)"
   ]
  },
  {
   "attachments": {},
   "cell_type": "markdown",
   "metadata": {},
   "source": [
    "# Set a learning rate ( eta)"
   ]
  },
  {
   "attachments": {},
   "cell_type": "markdown",
   "metadata": {},
   "source": [
    "# Train the model \n"
   ]
  },
  {
   "cell_type": "code",
   "execution_count": 30,
   "metadata": {},
   "outputs": [
    {
     "name": "stdout",
     "output_type": "stream",
     "text": [
      "204.59878045833165\n",
      "24.496413345595087\n",
      "3.1871402003659584\n",
      "0.651800502314746\n",
      "0.3446214090891861\n",
      "0.30308187674122405\n",
      "0.2935014082465525\n",
      "0.28793973401929385\n",
      "0.2830366494462389\n",
      "0.27838042426853293\n",
      "0.27391465025124423\n",
      "0.2696261364488002\n",
      "0.26550718760284486\n",
      "0.2615510185622859\n",
      "0.25775118640686084\n",
      "0.25410151191410557\n",
      "0.2505960611649043\n",
      "0.2472291348684088\n",
      "0.24399525896906402\n",
      "0.24088917573100166\n",
      "0.23790583518789435\n",
      "0.23504038693232515\n",
      "0.2322881722298108\n",
      "0.22964471644448475\n",
      "0.22710572176409521\n",
      "0.22466706021248883\n",
      "0.22232476693821918\n",
      "0.2200750337683677\n",
      "0.21791420301710043\n",
      "0.21583876153888668\n",
      "0.21384533501671968\n",
      "0.21193068247604746\n",
      "0.21009169101549552\n",
      "0.20832537074581617\n",
      "0.206628849928833\n",
      "0.20499937030848106\n",
      "0.20343428262634808\n",
      "0.2019310423144288\n",
      "0.20048720535808667\n",
      "0.19910042432249975\n",
      "0.19776844453612863\n",
      "0.1964891004250013\n",
      "0.19526031199185603\n",
      "0.19408008143441693\n",
      "0.1929464898973069\n",
      "0.191857694352311\n",
      "0.19081192460192495\n",
      "0.189807480401314\n",
      "0.18884272869400107\n",
      "0.1879161009567941\n",
      "0.18702609064963074\n",
      "0.1861712507662012\n",
      "0.18535019148135864\n",
      "0.1845615778914999\n",
      "0.18380412784423616\n",
      "0.1830766098538317\n",
      "0.1823778410990154\n",
      "0.1817066854999131\n",
      "0.18106205187097407\n",
      "0.1804428921468879\n",
      "0.1798481996786075\n",
      "0.17927700759670706\n",
      "0.17872838723941709\n",
      "0.17820144664277654\n",
      "0.1776953290904506\n",
      "0.177209211720854\n",
      "0.17674230418931797\n",
      "0.17629384738312365\n",
      "0.1758631121873119\n",
      "0.1754493982992668\n",
      "0.1750520330901415\n",
      "0.17467037051127735\n",
      "0.17430379004383806\n",
      "0.1739516956899511\n",
      "0.17361351500371577\n",
      "0.17328869816050319\n",
      "0.17297671706303372\n",
      "0.1726770644827812\n",
      "0.17238925323530355\n",
      "0.17211281538816492\n",
      "0.1718473015001552\n",
      "0.17159227989057568\n",
      "0.17134733593739868\n",
      "0.17111207140316187\n",
      "0.17088610378750246\n",
      "0.17066906570527515\n",
      "0.17046060428924692\n",
      "0.17026038061639398\n",
      "0.1700680691568707\n",
      "0.16988335724475237\n",
      "0.16970594456969415\n",
      "0.16953554268867652\n",
      "0.16937187455704608\n",
      "0.1692146740780874\n",
      "0.16906368567039545\n",
      "0.16891866385234272\n",
      "0.1687793728429675\n",
      "0.1686455861786347\n",
      "0.16851708634484414\n",
      "0.16839366442258727\n"
     ]
    }
   ],
   "source": [
    "learning_rate=0.02\n",
    "for i in range(100):\n",
    "    # output is the equation y= xw + b\n",
    "    outputs=np.dot(inputs,weights)+ biases\n",
    "    deltas=outputs-targets\n",
    "    # Create a loss function, for linear regression is L2-norm loss\n",
    "    loss=np.sum(deltas **2)/2/observations\n",
    "    print(loss)\n",
    "    deltas_scaled=deltas/observations\n",
    "\n",
    "    #Apply Gradient Descent Update Rules\n",
    "\n",
    "    weights= weights- learning_rate * (np.dot(inputs.T,deltas_scaled))\n",
    "    biases=biases-learning_rate * (np.sum(deltas_scaled))"
   ]
  },
  {
   "cell_type": "code",
   "execution_count": 24,
   "metadata": {},
   "outputs": [
    {
     "data": {
      "text/plain": [
       "(1000, 2)"
      ]
     },
     "execution_count": 24,
     "metadata": {},
     "output_type": "execute_result"
    }
   ],
   "source": [
    "inputs.shape"
   ]
  },
  {
   "cell_type": "code",
   "execution_count": 25,
   "metadata": {},
   "outputs": [
    {
     "data": {
      "text/plain": [
       "array([[ 0.96687248, -8.74278556],\n",
       "       [-2.05847324, -1.04824342],\n",
       "       [-1.95779942,  2.78850632],\n",
       "       ...,\n",
       "       [ 9.02818688, -5.71884409],\n",
       "       [ 1.58205644, -9.92131707],\n",
       "       [ 6.15935864,  0.29214028]])"
      ]
     },
     "execution_count": 25,
     "metadata": {},
     "output_type": "execute_result"
    }
   ],
   "source": [
    "inputs"
   ]
  },
  {
   "cell_type": "code",
   "execution_count": 26,
   "metadata": {},
   "outputs": [
    {
     "data": {
      "text/plain": [
       "array([[ 0.96687248, -2.05847324, -1.95779942, ...,  9.02818688,\n",
       "         1.58205644,  6.15935864],\n",
       "       [-8.74278556, -1.04824342,  2.78850632, ..., -5.71884409,\n",
       "        -9.92131707,  0.29214028]])"
      ]
     },
     "execution_count": 26,
     "metadata": {},
     "output_type": "execute_result"
    }
   ],
   "source": [
    "inputs.T"
   ]
  },
  {
   "cell_type": "code",
   "execution_count": 27,
   "metadata": {},
   "outputs": [
    {
     "name": "stdout",
     "output_type": "stream",
     "text": [
      "(2, 1000)\n"
     ]
    }
   ],
   "source": [
    "print(inputs.T.shape)"
   ]
  },
  {
   "cell_type": "code",
   "execution_count": 28,
   "metadata": {},
   "outputs": [
    {
     "data": {
      "text/plain": [
       "(1000, 1)"
      ]
     },
     "execution_count": 28,
     "metadata": {},
     "output_type": "execute_result"
    }
   ],
   "source": [
    "deltas_scaled.shape"
   ]
  },
  {
   "attachments": {},
   "cell_type": "markdown",
   "metadata": {},
   "source": [
    "# Print Weights and Biases\n",
    "### Plot last outputs vs targets"
   ]
  },
  {
   "cell_type": "code",
   "execution_count": 31,
   "metadata": {},
   "outputs": [
    {
     "data": {
      "image/png": "[encoded data removed]",
      "text/plain": [
       "<Figure size 640x480 with 1 Axes>"
      ]
     },
     "metadata": {},
     "output_type": "display_data"
    }
   ],
   "source": [
    "plt.plot(outputs,targets)\n",
    "plt.xlabel(\"Outputs\")\n",
    "plt.ylabel(\"Targets\")\n",
    "plt.show()"
   ]
  },
  {
   "cell_type": "code",
   "execution_count": null,
   "metadata": {},
   "outputs": [],
   "source": []
  }
 ],
 "metadata": {
  "kernelspec": {
   "display_name": "Python 3",
   "language": "python",
   "name": "python3"
  },
  "language_info": {
   "codemirror_mode": {
    "name": "ipython",
    "version": 3
   },
   "file_extension": ".py",
   "mimetype": "text/x-python",
   "name": "python",
   "nbconvert_exporter": "python",
   "pygments_lexer": "ipython3",
   "version": "3.10.4"
  },
  "orig_nbformat": 4
 },
 "nbformat": 4,
 "nbformat_minor": 2
}
